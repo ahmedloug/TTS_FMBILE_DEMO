{
 "cells": [
  {
   "cell_type": "markdown",
   "id": "38849f04",
   "metadata": {},
   "source": [
    "Setup le LLM\n"
   ]
  },
  {
   "cell_type": "code",
   "execution_count": 3,
   "id": "5b3671fc",
   "metadata": {},
   "outputs": [],
   "source": [
    "from llama_index.llms.openai import OpenAI\n",
    "from llama_index.core import Settings\n",
    "import os\n",
    "\n",
    "OPENAI_API_KEY = os.getenv(\"OPENAI_API_KEY\")\n",
    "\n",
    "llm = OpenAI(model=\"gpt-4o\", api_key=OPENAI_API_KEY)\n",
    "Settings.llm = llm"
   ]
  },
  {
   "cell_type": "markdown",
   "id": "a9817c9f",
   "metadata": {},
   "source": [
    "Setup la pipeline embedding model, index store, vectore store , split les tokens avec le markdown parser\n"
   ]
  },
  {
   "cell_type": "code",
   "execution_count": 2,
   "id": "624f6b0a",
   "metadata": {},
   "outputs": [
    {
     "name": "stderr",
     "output_type": "stream",
     "text": [
      "/usr/local/lib/python3.10/site-packages/tqdm/auto.py:21: TqdmWarning: IProgress not found. Please update jupyter and ipywidgets. See https://ipywidgets.readthedocs.io/en/stable/user_install.html\n",
      "  from .autonotebook import tqdm as notebook_tqdm\n"
     ]
    }
   ],
   "source": [
    "from llama_index.core import VectorStoreIndex, StorageContext\n",
    "from llama_index.core.node_parser import TokenTextSplitter\n",
    "from llama_index.core.storage.docstore.simple_docstore import (\n",
    "    SimpleDocumentStore,\n",
    ")\n",
    "from llama_index.embeddings.huggingface import HuggingFaceEmbedding\n",
    "\n",
    "# Initialize document store and embedding model\n",
    "docstore = SimpleDocumentStore()\n",
    "embed_model = HuggingFaceEmbedding(model_name=\"baai/bge-small-en-v1.5\")\n",
    "\n",
    "# Create storage contexts\n",
    "storage_context = StorageContext.from_defaults(docstore=docstore)\n",
    "storage_context_no_extra_context = StorageContext.from_defaults()\n",
    "text_splitter = TokenTextSplitter(\n",
    "    separator=\" \", chunk_size=256, chunk_overlap=10\n",
    ")\n"
   ]
  },
  {
   "cell_type": "markdown",
   "id": "c04f8013",
   "metadata": {},
   "source": [
    "Document Context Extractor\n"
   ]
  },
  {
   "cell_type": "code",
   "execution_count": 6,
   "id": "19cc29ca",
   "metadata": {},
   "outputs": [],
   "source": [
    "# This is the new part!\n",
    "\n",
    "from llama_index.core.extractors import DocumentContextExtractor\n",
    "\n",
    "context_extractor = DocumentContextExtractor(\n",
    "    # these 2 are mandatory\n",
    "    docstore=docstore,\n",
    "    max_context_length=128000,\n",
    "    # below are optional\n",
    "    llm=llm,  # default to Settings.llm\n",
    "    oversized_document_strategy=\"warn\",\n",
    "    max_output_tokens=100,\n",
    "    key=\"context\",\n",
    "    prompt=DocumentContextExtractor.SUCCINCT_CONTEXT_PROMPT,\n",
    ")"
   ]
  },
  {
   "cell_type": "markdown",
   "id": "997f3db4",
   "metadata": {},
   "source": [
    "Load DATA\n"
   ]
  },
  {
   "cell_type": "code",
   "execution_count": 7,
   "id": "ad0541da",
   "metadata": {},
   "outputs": [],
   "source": [
    "#pip install docx2txt\n",
    "\n",
    "from llama_index.core import SimpleDirectoryReader\n",
    "\n",
    "reader = SimpleDirectoryReader(\n",
    "    input_files=[\"Rapport Projet Ouvert.docx\"]\n",
    ")\n",
    "documents = reader.load_data()"
   ]
  },
  {
   "cell_type": "code",
   "execution_count": null,
   "id": "13abf90f",
   "metadata": {},
   "outputs": [
    {
     "name": "stderr",
     "output_type": "stream",
     "text": [
      " 13%|█▎        | 8/63 [01:53<15:23, 16.80s/it]WARNING:root:Rate limit hit, retrying in 60.4 seconds (attempt 1/5)\n",
      "WARNING:root:Rate limit hit, retrying in 60.4 seconds (attempt 1/5)\n",
      " 19%|█▉        | 12/63 [03:12<15:59, 18.82s/it]WARNING:root:Rate limit hit, retrying in 60.3 seconds (attempt 1/5)\n"
     ]
    }
   ],
   "source": [
    "import nest_asyncio\n",
    "\n",
    "nest_asyncio.apply()\n",
    "\n",
    "# need to add documents directly for the DocumentContextExtractor to work\n",
    "storage_context.docstore.add_documents(documents)\n",
    "index = VectorStoreIndex.from_documents(\n",
    "    documents=documents,\n",
    "    storage_context=storage_context,\n",
    "    embed_model=embed_model,\n",
    "    transformations=[text_splitter, context_extractor],\n",
    ")\n",
    "\n",
    "index_nocontext = VectorStoreIndex.from_documents(\n",
    "    documents=documents,\n",
    "    storage_context=storage_context_no_extra_context,\n",
    "    embed_model=embed_model,\n",
    "    transformations=[text_splitter],\n",
    ")"
   ]
  }
 ],
 "metadata": {
  "kernelspec": {
   "display_name": "Python 3",
   "language": "python",
   "name": "python3"
  },
  "language_info": {
   "codemirror_mode": {
    "name": "ipython",
    "version": 3
   },
   "file_extension": ".py",
   "mimetype": "text/x-python",
   "name": "python",
   "nbconvert_exporter": "python",
   "pygments_lexer": "ipython3",
   "version": "3.10.18"
  }
 },
 "nbformat": 4,
 "nbformat_minor": 5
}
